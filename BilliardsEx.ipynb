{
 "cells": [
  {
   "cell_type": "code",
   "execution_count": 17,
   "metadata": {
    "collapsed": true
   },
   "outputs": [],
   "source": [
    "import matplotlib.pyplot as plt\n",
    "import numpy as np\n",
    "import scipy.stats as st\n",
    "%matplotlib inline"
   ]
  },
  {
   "cell_type": "code",
   "execution_count": 61,
   "metadata": {
    "collapsed": false
   },
   "outputs": [
    {
     "name": "stdout",
     "output_type": "stream",
     "text": [
      "(490, 510)\n"
     ]
    },
    {
     "data": {
      "text/plain": [
       "(array([  0.7758288 ,   7.56387762,  49.06347997,  35.63244584,\n",
       "         43.2484919 ,  24.23152756,  23.78387851,  40.28638434]),\n",
       " array([ 86.33373555,  98.14686731]))"
      ]
     },
     "execution_count": 61,
     "metadata": {},
     "output_type": "execute_result"
    },
    {
     "data": {
      "image/png": "[encoded data removed]",
      "text/plain": [
       "<matplotlib.figure.Figure at 0x11bb42ad0>"
      ]
     },
     "metadata": {},
     "output_type": "display_data"
    }
   ],
   "source": [
    "def billiards(n=10,plot=True):\n",
    "\n",
    "    x1 = st.uniform.rvs(0,100) # choose a random initial position for\n",
    "    y1 = st.uniform.rvs(0,80) # choosing a y value for funsies, doesn't affect score of game\n",
    "    x= st.uniform.rvs(0,100,n) # Randomly distributing n throws\n",
    "    y= st.uniform.rvs(0,80,n) # random y for plotting\n",
    "    \n",
    "    A = x[x<x1] # array of throws left of initial throws\n",
    "    B = x[x>x1] # array of throws right of initial throws\n",
    "    \n",
    "    if plot: \n",
    "        plt.scatter(x1,y1,s=50,c='r',label=\"Initial Throw\")\n",
    "        \n",
    "        plt.scatter(A,y[x<x1],s=50,c='b',label=\"Alice\")\n",
    "        plt.scatter(B,y[x>x1],s=50,c='g',label=\"Bob\")\n",
    "        plt.legend()\n",
    "        plt.xticks([])\n",
    "        plt.yticks([])\n",
    "        \n",
    "    return A,B # Returns arrays A and B containing x locations of those throws\n",
    "\n",
    "Awins = 0\n",
    "Bwins = 0\n",
    "for i in range(1000):\n",
    "    A,B = billiards(11,plot=False)\n",
    "    if len(A)>len(B):\n",
    "        Awins += 1\n",
    "    else:\n",
    "        Bwins += 1\n",
    "        \n",
    "print(Awins,Bwins)\n",
    "billiards() # Example situation"
   ]
  },
  {
   "cell_type": "markdown",
   "metadata": {},
   "source": [
    "Want to figure out the probability that Bob will win, given that Alice has 5, and Bob has 3.\n",
    "\n",
    "Frequentist approach:\n",
    "Bob needs to win 3 times in a row, every throw has an equal chance of 3/8 (based on what's happened so far). ${(3/8)*(3/8)*(3/8) = 27/512 = 5.3\\%}$ chance \n"
   ]
  },
  {
   "cell_type": "markdown",
   "metadata": {},
   "source": [
    "But suppose we have prior knowledge that the initial throw is exactly in the center. \n",
    "The chance of Bob winning becoms $ 1/2*1/2*1/2 = 1/8 = 12.5\\% $\n",
    "\n",
    "The chance of this situation arising is the probability of the observed data arising:\n",
    "$ P(A)^5 * P(B)^3 $\n",
    "\n",
    "$ 1/2^5*1/2^3 = .39\\%$\n",
    "\n",
    "Not a large possibility, but nonzero. The frequentist approach ignores all other starting positions in favor of the most likely starting position."
   ]
  },
  {
   "cell_type": "markdown",
   "metadata": {},
   "source": [
    "Bayesian approach: \n",
    "The probability of Bob winning is actually dependent on the initial throw, but we don't know that, so we need to figure out the probability that the data would be what it is given all possible initial throws. We need to integrate over all possible values.\n",
    "\n",
    "\n",
    "\n",
    "Everything is based on the initial throw, which we don't know. But we do know how likely it is to be at any point, i.e. we know the probability distribution function (PDF). In this case, the PDF is uniform, it's equally likely to be anywhere between 0 and 100% across the table.\n",
    "\n",
    "We also need to account for the likelihood of any given initial throw based on the data we have. To figure this out for all values, we'll need to make use of Bayes' theorem.\n",
    "\n",
    "\n",
    "$P(B|D) = \\int P(B|p,D)P(p|D) dp $\n",
    "\n",
    "Bayes' Theorem:\n",
    "\n",
    "$ P(p|D) = \\frac{P(D|p)P(p)}{P(D)} $\n",
    "\n",
    "Where the probability of the data given an initial throw is the product of probabilities that would lead to the data. I.e., in this situation it's $P(A)^5*P(B)^3$, or defining p as the initial location, P(A) is simply p, and P(B) is 1-p so $p^5*(1-p)^5$."
   ]
  },
  {
   "cell_type": "markdown",
   "metadata": {},
   "source": [
    "$ P(B|D) = \\int \\frac{P(B|p,D)P(D|p)P(p)}{P(D)}$\n",
    "\n",
    "In practice, the denominator is the normalization factor and can be calculated later. The challenge is to calculate the numerator.\n",
    "\n",
    "P(p) is the prior, the distribution of the probability of the initial throw. We make a guess as to what this looks like. In this case, we believe any point has an equal probability.\n",
    "\n",
    "P(B|p,D)P(D|p) is the likelihood. It takes into account the probability of getting the data given the initial throw and the probability that Bob will win, dependent on the initial throw.\n",
    "\n",
    "P(D) is the probability of the data, which is the probability of the data given the initial throw, multiplied by the probability of the initial throw, $P(D) = P(D|p)P(p)$\n",
    "\n",
    "$ P(B|D) =  \\frac{\\int P(B|p,D)P(D|p)P(p)dp}{\\int P(D|p)P(p)dp}$\n",
    "\n",
    "Finally, the P(p) for a uniform distribution is constant, though in other situations it would need to be considered numerically.\n",
    "\n",
    "$ P(B|D) =  \\frac{\\int_0^1 P(B|p,D)P(D|p)dp}{\\int_0^1 P(D|p)dp}$\n",
    "\n",
    "$ P(B|D) =  \\frac{\\int_0^1 (1-p)^3p^5(1-p)^3 dp}{\\int_0^1 (1-p)^3p^5dp}=\\frac{\\int_0^1 (1-p)^6p^5 dp}{\\int_0^1 (1-p)^3p^5dp}$\n"
   ]
  },
  {
   "cell_type": "code",
   "execution_count": 62,
   "metadata": {
    "collapsed": true
   },
   "outputs": [
    {
     "ename": "NameError",
     "evalue": "name 'xi' is not defined",
     "output_type": "error",
     "traceback": [
      "\u001b[0;31m---------------------------------------------------------------------------\u001b[0m",
      "\u001b[0;31mNameError\u001b[0m                                 Traceback (most recent call last)",
      "\u001b[0;32m<ipython-input-62-ab634a958bed>\u001b[0m in \u001b[0;36m<module>\u001b[0;34m()\u001b[0m\n\u001b[0;32m----> 1\u001b[0;31m \u001b[0mPxi\u001b[0m \u001b[0;34m=\u001b[0m \u001b[0mxi\u001b[0m\u001b[0;34m/\u001b[0m\u001b[0;36m100\u001b[0m    \u001b[0;31m# Pxi is the initial throw, it is the probability that any random throw\u001b[0m\u001b[0;34m\u001b[0m\u001b[0m\n\u001b[0m\u001b[1;32m      2\u001b[0m                 \u001b[0;31m# will land to the left of it. This is the prior, that is, the probability that a\u001b[0m\u001b[0;34m\u001b[0m\u001b[0;34m\u001b[0m\u001b[0m\n\u001b[1;32m      3\u001b[0m                 \u001b[0;31m# given xi is chosen.\u001b[0m\u001b[0;34m\u001b[0m\u001b[0;34m\u001b[0m\u001b[0m\n\u001b[1;32m      4\u001b[0m \u001b[0mPdb\u001b[0m \u001b[0;34m=\u001b[0m \u001b[0mPxi\u001b[0m\u001b[0;34m**\u001b[0m\u001b[0;36m3.\u001b[0m   \u001b[0;31m# The probability that Bob gets 3 straight points based on the initial throw position\u001b[0m\u001b[0;34m\u001b[0m\u001b[0m\n\u001b[1;32m      5\u001b[0m \u001b[0;34m\u001b[0m\u001b[0m\n",
      "\u001b[0;31mNameError\u001b[0m: name 'xi' is not defined"
     ]
    }
   ],
   "source": [
    "Pxi = xi/100    # Pxi is the initial throw, it is the probability that any random throw \n",
    "                # will land to the left of it. This is the prior, that is, the probability that a \n",
    "                # given xi is chosen.\n",
    "def prior(param):\n",
    "    # returns random initial throw based on uniform distribution between p[0] and p[1]\n",
    "    lo = param[0]\n",
    "    hi = param[1]\n",
    "    return st.uniform(lo,hi)\n",
    "\n",
    "def likelihood(pr):\n",
    "    # likelihood of bob winning based on initial throw\n",
    "    return (1-pr)**3\n",
    "\n",
    "def normalization(pr):\n",
    "    \n",
    "Pdb = Pxi**3   # The probability that Bob gets 3 straight points based on the initial throw position\n",
    "                \n",
    "Pd = Pxi**3*(1-Pxi)**5 # The probability of the actual data given the initial throw\n"
   ]
  },
  {
   "cell_type": "code",
   "execution_count": null,
   "metadata": {
    "collapsed": true
   },
   "outputs": [],
   "source": []
  }
 ],
 "metadata": {
  "kernelspec": {
   "display_name": "Python 2",
   "language": "python",
   "name": "python2"
  },
  "language_info": {
   "codemirror_mode": {
    "name": "ipython",
    "version": 2
   },
   "file_extension": ".py",
   "mimetype": "text/x-python",
   "name": "python",
   "nbconvert_exporter": "python",
   "pygments_lexer": "ipython2",
   "version": "2.7.13"
  }
 },
 "nbformat": 4,
 "nbformat_minor": 0
}
