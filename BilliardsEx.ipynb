{
 "cells": [
  {
   "cell_type": "code",
   "execution_count": 1,
   "metadata": {},
   "outputs": [],
   "source": [
    "import matplotlib.pyplot as plt\n",
    "import numpy as np\n",
    "import scipy.stats as st\n",
    "%matplotlib inline"
   ]
  },
  {
   "cell_type": "code",
   "execution_count": 2,
   "metadata": {
    "scrolled": true
   },
   "outputs": [
    {
     "name": "stdout",
     "output_type": "stream",
     "text": [
      "499 501\n"
     ]
    }
   ],
   "source": [
    "def billiards(n=10,plot=True):\n",
    "\n",
    "    x1 = st.uniform.rvs(0,100) # choose a random initial position for\n",
    "    y1 = st.uniform.rvs(0,80) # choosing a y value for funsies, doesn't affect score of game\n",
    "    x= st.uniform.rvs(0,100,n) # Randomly distributing n throws\n",
    "    y= st.uniform.rvs(0,80,n) # random y for plotting\n",
    "    \n",
    "    A = x[x<x1] # array of throws left of initial throws\n",
    "    B = x[x>x1] # array of throws right of initial throws\n",
    "    \n",
    "    if plot: \n",
    "        plt.scatter(x1,y1,s=50,c='r',label=\"Initial Throw\")\n",
    "        \n",
    "        plt.scatter(A,y[x<x1],s=50,c='b',label=\"Alice\")\n",
    "        plt.scatter(B,y[x>x1],s=50,c='g',label=\"Bob\")\n",
    "        plt.legend()\n",
    "        plt.xticks([])\n",
    "        plt.yticks([])\n",
    "        \n",
    "    return A,B # Returns arrays A and B containing x locations of those throws\n",
    "\n",
    "Awins = 0\n",
    "Bwins = 0\n",
    "for i in range(1000):\n",
    "    A,B = billiards(11,plot=False)\n",
    "    if len(A)>len(B):\n",
    "        Awins += 1\n",
    "    else:\n",
    "        Bwins += 1\n",
    "        \n",
    "print(Awins,Bwins)"
   ]
  },
  {
   "cell_type": "code",
   "execution_count": 5,
   "metadata": {},
   "outputs": [
    {
     "data": {
      "image/png": "[encoded data removed]",
      "text/plain": [
       "<matplotlib.figure.Figure at 0x118cdd710>"
      ]
     },
     "metadata": {},
     "output_type": "display_data"
    }
   ],
   "source": [
    "n=0\n",
    "while n<1:\n",
    "    plt.cla()\n",
    "    A,B = billiards(8) # Example situation\n",
    "    if len(A) == 5:\n",
    "        break"
   ]
  },
  {
   "cell_type": "markdown",
   "metadata": {},
   "source": [
    "# Goal"
   ]
  },
  {
   "cell_type": "markdown",
   "metadata": {},
   "source": [
    "Want to figure out the probability that Bob will win, given that Alice has 5, and Bob has 3."
   ]
  },
  {
   "cell_type": "markdown",
   "metadata": {},
   "source": [
    "# Frequentist Approach"
   ]
  },
  {
   "cell_type": "markdown",
   "metadata": {},
   "source": [
    "Realisitically there's not enough data to draw meaningful conclusions. That said, we can only interpret the data as is. Given the data, we should assume that there's a 5/8ths chance that any throw will favor Alice, and a 3/8ths chance that it will go to Bob.\n",
    "So:\n",
    "Bob needs to win 3 times in a row, every throw has an equal chance of 3/8 (based on what's happened so far). \n",
    "\n",
    "${(3/8)*(3/8)*(3/8) = 27/512 = 5.3\\%}$ chance \n"
   ]
  },
  {
   "cell_type": "markdown",
   "metadata": {},
   "source": [
    "# But what if..."
   ]
  },
  {
   "cell_type": "markdown",
   "metadata": {},
   "source": [
    "But suppose we have **prior** knowledge that the initial throw is exactly in the center.\n",
    "The chance of Bob winning becomes \n",
    "\n",
    "$ 1/2*1/2*1/2 = 1/8 = 12.5\\% $\n",
    "\n",
    "The probability, or **likelihood**, that the data would look like it does (Alice has 5 and Bob has 3) given this placement (exactly in the middle) is:\n",
    "\n",
    "$ P(Alice)^5 * P(Bob)^3 $\n",
    "\n",
    "$ 1/2^5*1/2^3 = 0.391\\%$"
   ]
  },
  {
   "cell_type": "markdown",
   "metadata": {},
   "source": [
    "Compared to the likelihood of the frequentist assumption given the data:\n",
    "\n",
    "$ \\frac{5}{8}^5*\\frac{3}{8}^3 = 0.503\\%$"
   ]
  },
  {
   "cell_type": "code",
   "execution_count": 19,
   "metadata": {},
   "outputs": [
    {
     "data": {
      "text/plain": [
       "<matplotlib.collections.PathCollection at 0x116d22d10>"
      ]
     },
     "execution_count": 19,
     "metadata": {},
     "output_type": "execute_result"
    },
    {
     "data": {
      "image/png": "[encoded data removed]",
      "text/plain": [
       "<matplotlib.figure.Figure at 0x116ca3490>"
      ]
     },
     "metadata": {},
     "output_type": "display_data"
    }
   ],
   "source": [
    "x = np.linspace(0,1,200)\n",
    "y = x**5*(1-x)**3\n",
    "plt.plot(x,y)\n",
    "plt.scatter(5./8.,(5./8.)**5*(3./8.)**3,c='red',s=50,linewidths=0)\n",
    "plt.scatter(1./2.,(1./2.)**8,c='red',s=50,linewidths=0)"
   ]
  },
  {
   "cell_type": "markdown",
   "metadata": {},
   "source": [
    "As expected the maximal likelihood agrees with the frequentist interpretation. Notably, however, a random selection of the starting point would favor a closer to center initial throw. The Bayesian approach marginalizes this oversight by evaluating the likelihood of all possible initial throws."
   ]
  },
  {
   "cell_type": "markdown",
   "metadata": {},
   "source": [
    "# The Bayesian Approach"
   ]
  },
  {
   "cell_type": "markdown",
   "metadata": {},
   "source": [
    "The probability of Bob winning is, as we've seen, dependent on the initial throw, but we don't know what the initial throw is. We need to figure out the probability that the data would be what it is given all possible initial throws. We need to integrate over all possible values.\n",
    "\n",
    "We can't know exactly where the initial throw landed, but what we do know **prior** to the throw is the probability that it lands in any given place, i.e. we know the probability distribution function (PDF). In this case, the PDF is uniform, it's equally likely to be anywhere between 0 and 100% across the table.\n",
    "\n",
    "We also need to account for the **likelihood** of any given initial throw based on the data we have, how well does the model fit the data.\n",
    "\n",
    "$P(B|D) = \\int P(B|p,D)P(p|D) dp $\n",
    "\n",
    "Which should be read this way: The probability that Bob will win given the data is equal to the integral over all initial throws of the probability that Bob will win given an initial throw, multiplied by the likelihood of that initial throw given the data."
   ]
  },
  {
   "cell_type": "markdown",
   "metadata": {},
   "source": [
    "## The probability that Bob will win given the initial placement and the data P(B|p,D)"
   ]
  },
  {
   "cell_type": "markdown",
   "metadata": {},
   "source": [
    "This is fairly trivial since we know that any random throw will result in a random place and thus the probability is simply 1-p, where p is the probability that it lands on Alice's side. In order for Bob to win this must happen 3 times, $(1-p)^3$"
   ]
  },
  {
   "cell_type": "markdown",
   "metadata": {},
   "source": [
    "## The probability of the initial placement given the data"
   ]
  },
  {
   "cell_type": "markdown",
   "metadata": {},
   "source": [
    "According to Bayes:\n",
    "\n",
    "$ P(p|D) = \\frac{P(D|p)P(p)}{P(D)} $\n",
    "\n",
    "The probability of a placement given the data is the likelihood of the data given the placement multiplied by the probability of the placement, normalized by the probability of the data.\n",
    "\n",
    "Where the likelihood of the data given an initial throw, is the product of probabilities that would lead to the data. In this situation it's $P(A)^5*P(B)^3$, or defining p as probability Alice will win a given throw, P(A) is simply p, and P(B) is 1-p so the total probability of the given situation is $p^5*(1-p)^3$."
   ]
  },
  {
   "cell_type": "markdown",
   "metadata": {},
   "source": [
    "$ P(B|D) = \\int \\frac{P(B|p,D)P(D|p)P(p)}{P(D)}$\n",
    "\n",
    "In practice, the denominator is the normalization factor and can be calculated later. The challenge is to calculate the numerator.\n",
    "\n",
    "P(p) is the **prior**, the distribution of the probability of the initial throw. We make a guess as to what this looks like. In this case, we believe any point has an equal probability so we have a uniform prior.\n",
    "\n",
    "P(D|p) is the likelihood. It takes into account the probability of getting the data given the initial throw and the probability that Bob will win, dependent on the initial throw.\n",
    "\n",
    "P(D) is the probability of the data, which is a seperate integral over all initial throws of the probability of the data given the initial throw, multiplied by the probability of the initial throw itself, $P(D) = \\int{P(D|p)P(p)}dp$\n",
    "\n",
    "$ P(B|D) =  \\frac{\\int P(B|p,D)P(D|p)P(p)dp}{\\int P(D|p)P(p)dp}$\n",
    "\n",
    "Given that the placement must be somewhere on the table, the integral ranges from 0 (left hand side) to 1 (right hand side)\n",
    "\n",
    "$ P(B|D) =  \\frac{\\int_0^1 P(B|p,D)P(D|p)dp}{\\int_0^1 P(D|p)dp}$\n",
    "\n",
    "$ P(B|D) =  \\frac{\\int_0^1 (1-p)^3p^5(1-p)^3 dp}{\\int_0^1 (1-p)^3p^5dp}=\\frac{\\int_0^1 (1-p)^6p^5 dp}{\\int_0^1 (1-p)^3p^5dp}$\n"
   ]
  },
  {
   "cell_type": "code",
   "execution_count": 62,
   "metadata": {
    "collapsed": true
   },
   "outputs": [
    {
     "ename": "NameError",
     "evalue": "name 'xi' is not defined",
     "output_type": "error",
     "traceback": [
      "\u001b[0;31m---------------------------------------------------------------------------\u001b[0m",
      "\u001b[0;31mNameError\u001b[0m                                 Traceback (most recent call last)",
      "\u001b[0;32m<ipython-input-62-ab634a958bed>\u001b[0m in \u001b[0;36m<module>\u001b[0;34m()\u001b[0m\n\u001b[0;32m----> 1\u001b[0;31m \u001b[0mPxi\u001b[0m \u001b[0;34m=\u001b[0m \u001b[0mxi\u001b[0m\u001b[0;34m/\u001b[0m\u001b[0;36m100\u001b[0m    \u001b[0;31m# Pxi is the initial throw, it is the probability that any random throw\u001b[0m\u001b[0;34m\u001b[0m\u001b[0m\n\u001b[0m\u001b[1;32m      2\u001b[0m                 \u001b[0;31m# will land to the left of it. This is the prior, that is, the probability that a\u001b[0m\u001b[0;34m\u001b[0m\u001b[0;34m\u001b[0m\u001b[0m\n\u001b[1;32m      3\u001b[0m                 \u001b[0;31m# given xi is chosen.\u001b[0m\u001b[0;34m\u001b[0m\u001b[0;34m\u001b[0m\u001b[0m\n\u001b[1;32m      4\u001b[0m \u001b[0mPdb\u001b[0m \u001b[0;34m=\u001b[0m \u001b[0mPxi\u001b[0m\u001b[0;34m**\u001b[0m\u001b[0;36m3.\u001b[0m   \u001b[0;31m# The probability that Bob gets 3 straight points based on the initial throw position\u001b[0m\u001b[0;34m\u001b[0m\u001b[0m\n\u001b[1;32m      5\u001b[0m \u001b[0;34m\u001b[0m\u001b[0m\n",
      "\u001b[0;31mNameError\u001b[0m: name 'xi' is not defined"
     ]
    }
   ],
   "source": [
    "P_A = xi/100    # Pxi is the initial throw, it is the probability that any random throw \n",
    "                # will land to the left of it. This is the prior, that is, the probability that a \n",
    "                # given xi is chosen.\n",
    "def prior(param):\n",
    "    # returns random initial throw based on uniform distribution between p[0] and p[1]\n",
    "    lo = param[0]\n",
    "    hi = param[1]\n",
    "    return st.uniform(lo,hi)\n",
    "\n",
    "def likelihood(pr):\n",
    "    # likelihood of bob winning based on initial throw\n",
    "    return (1-pr)**3\n",
    "\n",
    "def normalization(pr):\n",
    "    \n",
    "Pdb = P_A**3   # The probability that Bob gets 3 straight points based on the initial throw position\n",
    "                \n",
    "Pd = P_A**3*(1-P_A)**5 # The probability of the actual data given the initial throw\n"
   ]
  },
  {
   "cell_type": "code",
   "execution_count": null,
   "metadata": {
    "collapsed": true
   },
   "outputs": [],
   "source": []
  }
 ],
 "metadata": {
  "kernelspec": {
   "display_name": "Python 3",
   "language": "python",
   "name": "python3"
  },
  "language_info": {
   "codemirror_mode": {
    "name": "ipython",
    "version": 3
   },
   "file_extension": ".py",
   "mimetype": "text/x-python",
   "name": "python",
   "nbconvert_exporter": "python",
   "pygments_lexer": "ipython3",
   "version": "3.6.2"
  }
 },
 "nbformat": 4,
 "nbformat_minor": 1
}
