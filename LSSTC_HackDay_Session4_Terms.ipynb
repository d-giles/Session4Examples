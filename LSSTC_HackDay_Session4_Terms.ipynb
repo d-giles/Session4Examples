{
 "cells": [
  {
   "cell_type": "markdown",
   "metadata": {},
   "source": [
    "# Definitions of Terms\n",
    "\n",
    "### A break down of statiscal vocabulary for easy understanding\n",
    "- **Frequientist Approach** - Looking at probabilites based on the frequency of an event. Models are constants while data vary. \n",
    "- **Bayesian Approach** - A statistical method that uses previous knowledge of an event. Bayesian probability is a meausure certainty about a how a model fits the data. In the Bayesian approach data are constants and models vary.\n",
    "- **prior** - A proablility distribution chosen *before* you do anything. This distribution is based on what you know about the data. --insert figure--\n",
    "- **posterior** - The probablity of the parameter(s) that you are interested in, given an event. [Posterior Example](#Posterior_Likelihood_example_cell) \n",
    "- **likelihood** - The probablity of an event given some parameters. [Likelihood Example](#Posterior_Likelihood_example_cell) \n",
    "- **marginalize** - Integrate over a variable [When to do this](#Billards_example)\n",
    "- **hyper-parameters** - Parameters from your prior distribution (the distribution based on what you knew about the data)\n",
    "- **population paramter** - A statistic, such as the mean or varience, used to desrcibe a population \n",
    "- **latent variables** - Variables that are not directly observed. These variables are infered through your model.\n",
    "- **nusiance parameter** - A parameter that you don't care about but needs to be accounted for in the analysis of the parameters you care about. [Nuisance Parameter Example](#Billards_example)\n",
    "- **confiedence interval** - When you compute a true value from data of *this* particular type, the true value should fall within this interval. (Key! data of *this* kind!!!!!)\n",
    "- **crediable region** - Given the *observed* data, this is the region where the true value should fall.\n",
    "- **sampling** - Picking random values based on a distribution\n",
    "- **Chi Square test** - A way to determine if two variables are independent of one another\n",
    "- **covarience** - How much two random variable vary together\n",
    "- **deterministic** - not random\n",
    "- **stochastic** - determined randomly\n",
    "- **least-squares fit** - Fitting a line where you minimize the difference between the observed value and the model value\n",
    "- **k$_\\sigma$ clipping** - A method to remove outlying points [K_sigma Example](#K_sigma)\n",
    "- **Gaussian Process** - A model where observations occur in a continuous domain. Every point is associated with a normally distributed random variable.\n",
    "- **kernel** - The form of the probability distribution where factors, such as a normalization factor, that aren't functions of the variable(s) of intest are dropped. [Kernel Example](#Kernel)\n",
    "- **predictive distribution**\n",
    "- **MCMC** seperate into two terms??\n",
    "- **The evidence**\n",
    "- **Metropolis-Hastings**\n",
    "\n",
    "\n",
    "For even more statistics definations see: http://www.statisticshowto.com/probability-and-statistics/statistics-definitions/"
   ]
  },
  {
   "cell_type": "markdown",
   "metadata": {},
   "source": [
    "# Figures and Examples for terms"
   ]
  },
  {
   "cell_type": "markdown",
   "metadata": {},
   "source": [
    "<a id='Posterior_Likelihood_example_cell'></a>\n",
    "### The difference between posterior and likelihood\n",
    "Suppose there is a mixed school having 60% boys and 40% girls as students. The girls wear trousers or skirts in equal numbers; the boys all wear trousers. An observer sees a (random) student from a distance; all the observer can see is that this student is wearing trousers. What is the probability this student is a girl? \n",
    "\n",
    "**Event:** You observe a student wearing trousers\n",
    "\n",
    "**Thing you are interested in:** Boy or girl?\n",
    "\n",
    "\n",
    "\n",
    "The **posterior** is the probability of the student wearing trousers, given that the student is a girl\n",
    "\n",
    "The **likelihood** is the probablity that the student is a girl, given that you see them in trousers"
   ]
  },
  {
   "cell_type": "markdown",
   "metadata": {},
   "source": [
    "----"
   ]
  },
  {
   "cell_type": "markdown",
   "metadata": {},
   "source": [
    "<a id='Billards_example'></a>\n",
    "### Billards Game Example\n"
   ]
  },
  {
   "cell_type": "markdown",
   "metadata": {},
   "source": [
    "---"
   ]
  },
  {
   "cell_type": "markdown",
   "metadata": {},
   "source": [
    "### K$_\\sigma$ Clipping <a id='K_sigma'></a>"
   ]
  },
  {
   "cell_type": "markdown",
   "metadata": {},
   "source": [
    "----"
   ]
  },
  {
   "cell_type": "markdown",
   "metadata": {},
   "source": [
    "### Kernel Example <a id='Kernel'></a>\n",
    "An example is the normal distribution. Its probability density function is\n",
    "\n",
    "### $p(x|\\mu ,\\sigma ^{2}) = {\\frac {1}{\\sqrt {2\\pi \\sigma ^{2}}}}e^{-{\\frac {(x-\\mu )^{2}}{2\\sigma ^{2}}}}$\n",
    "\n",
    "and the associated kernel is\n",
    "### $ p(x|\\mu ,\\sigma ^{2})\\propto e^{-{\\frac {(x-\\mu )^{2}}{2\\sigma ^{2}}}}$\n",
    "\n",
    "Note that the factor in front of the exponential has been omitted, even though it contains the parameter $\\sigma ^{2}$, because it is not a function of the domain variable $x$."
   ]
  },
  {
   "cell_type": "code",
   "execution_count": null,
   "metadata": {
    "collapsed": true
   },
   "outputs": [],
   "source": []
  }
 ],
 "metadata": {
  "kernelspec": {
   "display_name": "Python 3",
   "language": "python",
   "name": "python3"
  },
  "language_info": {
   "codemirror_mode": {
    "name": "ipython",
    "version": 3
   },
   "file_extension": ".py",
   "mimetype": "text/x-python",
   "name": "python",
   "nbconvert_exporter": "python",
   "pygments_lexer": "ipython3",
   "version": "3.6.2"
  }
 },
 "nbformat": 4,
 "nbformat_minor": 2
}
